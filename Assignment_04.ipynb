{
  "nbformat": 4,
  "nbformat_minor": 0,
  "metadata": {
    "colab": {
      "name": "Assignment_04.ipynb",
      "provenance": [],
      "collapsed_sections": [],
      "authorship_tag": "ABX9TyNNzde2LBQcubWeNopyaxh4",
      "include_colab_link": true
    },
    "kernelspec": {
      "name": "python3",
      "display_name": "Python 3"
    },
    "language_info": {
      "name": "python"
    }
  },
  "cells": [
    {
      "cell_type": "markdown",
      "metadata": {
        "id": "view-in-github",
        "colab_type": "text"
      },
      "source": [
        "<a href=\"https://colab.research.google.com/github/m0ohannad/AI_lab_Assignment_04/blob/main/Assignment_04.ipynb\" target=\"_parent\"><img src=\"https://colab.research.google.com/assets/colab-badge.svg\" alt=\"Open In Colab\"/></a>"
      ]
    },
    {
      "cell_type": "markdown",
      "metadata": {
        "id": "n3GL73Xc9Dxe"
      },
      "source": [
        "# **Q1**"
      ]
    },
    {
      "cell_type": "markdown",
      "metadata": {
        "id": "2lwIohKY9GAh"
      },
      "source": [
        "1. Write a function named **`freq_table()`** that generates a frequency table for any column in our iOS apps data set.\n",
        "  * The function should take the index number of a column in as an input (name the parameter as you want).\n",
        "  * Inside the function's body:\n",
        "    * Loop through the **apps_data** data set (don't include the header row) and extract the value you want by using the parameter (which is expected to be an index number).\n",
        "  * The function should return the frequency table as a dictionary.\n",
        "\n",
        "2. Use the **`freq_table()`** function to generate a frequency table for the **user_rating** column (the index number of this column is 7). Store the table in a variable named **ratings_ft**.\n",
        "\n",
        "\n",
        "\n",
        "```\n",
        "opened_file = open('AppleStore.csv', encoding = 'utf8')\n",
        "from csv import reader\n",
        "read_file = reader(opened_file)\n",
        "apps_data = list(read_file)\n",
        "```\n",
        "\n"
      ]
    },
    {
      "cell_type": "code",
      "metadata": {
        "colab": {
          "base_uri": "https://localhost:8080/"
        },
        "id": "7kAVHQwEMwxZ",
        "outputId": "996b1170-e91d-4090-8ea6-c78266686bd3"
      },
      "source": [
        "opened_file = open('AppleStore.csv', encoding = 'utf8')\n",
        "from csv import reader\n",
        "read_file = reader(opened_file)\n",
        "apps_data = list(read_file)\n",
        "\n",
        "def freq_table(index):\n",
        "  f_table ={}\n",
        "  for app in apps_data[1:]:\n",
        "    value = app[index]\n",
        "    if value in f_table:\n",
        "      f_table[value] +=1\n",
        "    else:\n",
        "      f_table[value] = 1\n",
        "\n",
        "  return f_table\n",
        "    \n",
        "ratings_ft = freq_table(7)\n",
        "ratings_ft"
      ],
      "execution_count": 1,
      "outputs": [
        {
          "output_type": "execute_result",
          "data": {
            "text/plain": [
              "{'0': 929,\n",
              " '1': 44,\n",
              " '1.5': 56,\n",
              " '2': 106,\n",
              " '2.5': 196,\n",
              " '3': 383,\n",
              " '3.5': 702,\n",
              " '4': 1626,\n",
              " '4.5': 2663,\n",
              " '5': 492}"
            ]
          },
          "metadata": {
            "tags": []
          },
          "execution_count": 1
        }
      ]
    },
    {
      "cell_type": "markdown",
      "metadata": {
        "id": "EHxklCUBID_f"
      },
      "source": [
        "# **Q2**"
      ]
    },
    {
      "cell_type": "markdown",
      "metadata": {
        "id": "w1r5sPUGIS9S"
      },
      "source": [
        "1. Update the current **`freq_table()`** function to make it more reusable.\n",
        "  * The function should take in two inputs this time: a data set and the index of a column (name the parameters as you want).\n",
        "    * Inside the function's body:\n",
        "      * Loop through the data set using that parameter which is expected to be a data set (a list of lists). For each iteration, select the value you want by using the parameter which is expected to be an index number.\n",
        "      * Build the frequency table as a dictionary.\n",
        "    * The function should return the frequency table as a dictionary.\n",
        "\n",
        "2. Use the updated **`freq_table()`** function to generate a frequency table for the **user_rating** column (the index number of this column is 7). Store the table in a variable named **ratings_ft**.\n",
        "\n",
        "\n",
        "\n",
        "```\n",
        "opened_file = open('AppleStore.csv', encoding = 'utf8')\n",
        "from csv import reader\n",
        "read_file = reader(opened_file)\n",
        "apps_data = list(read_file)\n",
        "\n",
        "def freq_table(index):\n",
        "  frequncy_table = {}\n",
        "\n",
        "  for row in apps_data[1:]:\n",
        "    value = row[index]\n",
        "    if value in frequncy_table:\n",
        "      frequncy_table[value] += 1\n",
        "    else:\n",
        "      frequncy_table[value] = 1\n",
        "      \n",
        "  return frequncy_table\n",
        "```\n",
        "\n"
      ]
    },
    {
      "cell_type": "code",
      "metadata": {
        "colab": {
          "base_uri": "https://localhost:8080/"
        },
        "id": "-vW-vzWkJi0Z",
        "outputId": "b903edb7-0824-46e8-fd68-01d97c440c5e"
      },
      "source": [
        "opened_file = open('AppleStore.csv', encoding = 'utf8')\n",
        "from csv import reader\n",
        "read_file = reader(opened_file)\n",
        "apps_data = list(read_file)\n",
        " \n",
        "def freq_table(dataset, index):\n",
        "  frequncy_table = {}\n",
        " \n",
        "  for row in dataset[1:]:\n",
        "    value = row[index]\n",
        "    if value in frequncy_table:\n",
        "      frequncy_table[value] += 1\n",
        "    else:\n",
        "      frequncy_table[value] = 1\n",
        " \n",
        "  return frequncy_table\n",
        "\n",
        "\n",
        "ratings_ft = freq_table(apps_data, 7)\n",
        "ratings_ft"
      ],
      "execution_count": 2,
      "outputs": [
        {
          "output_type": "execute_result",
          "data": {
            "text/plain": [
              "{'0': 929,\n",
              " '1': 44,\n",
              " '1.5': 56,\n",
              " '2': 106,\n",
              " '2.5': 196,\n",
              " '3': 383,\n",
              " '3.5': 702,\n",
              " '4': 1626,\n",
              " '4.5': 2663,\n",
              " '5': 492}"
            ]
          },
          "metadata": {
            "tags": []
          },
          "execution_count": 2
        }
      ]
    },
    {
      "cell_type": "markdown",
      "metadata": {
        "id": "CfkSoA82LcPl"
      },
      "source": [
        "# **Q3**"
      ]
    },
    {
      "cell_type": "markdown",
      "metadata": {
        "id": "_qg4uwXoLjXE"
      },
      "source": [
        "1. Add an extra parameter to the **`open_dataset()`** function (already written in the code editor) such that it only returns data sets without header rows.\n",
        "  * If the parameter indicates that data set has a header row, the function removes the header row before returning the data set.\n",
        "  * Else (if the parameter doesn't indicate that data set doesn't have a header row), the function returns the data set as it is.\n",
        "  * It's up to you whether you use default arguments or not.\n",
        "\n",
        "2. Use the updated **`open_dataset()`** function to open the **AppleStore.csv** file — recall that the **AppleStore.csv** data set has a header row. Assign the data set to a variable named **apps_data**.\n",
        "\n",
        "\n",
        "\n",
        "```\n",
        "def open_dataset(file_name='AppleStore.csv'):\n",
        "  opened_file = open(file_name, encoding = 'utf8')\n",
        "  from csv import reader\n",
        "  read_file = reader(opened_file)\n",
        "  data = list(read_file)\n",
        "\n",
        "  return data\n",
        "```\n",
        "\n"
      ]
    },
    {
      "cell_type": "code",
      "metadata": {
        "colab": {
          "base_uri": "https://localhost:8080/"
        },
        "id": "TFcy63HXMThj",
        "outputId": "404bcce6-ab85-4878-ec98-ecd9befbfa2f"
      },
      "source": [
        "def open_dataset(file_name='AppleStore.csv', has_header=True):\n",
        "  opened_file = open(file_name, encoding = 'utf8')\n",
        "  from csv import reader\n",
        "  read_file = reader(opened_file)\n",
        "  data = list(read_file)\n",
        "\n",
        "  if has_header:\n",
        "    return data[1:]\n",
        "  else:\n",
        "    return data\n",
        "\n",
        "apps_data = open_dataset()\n",
        "apps_data[:2]"
      ],
      "execution_count": 3,
      "outputs": [
        {
          "output_type": "execute_result",
          "data": {
            "text/plain": [
              "[['281656475',\n",
              "  'PAC-MAN Premium',\n",
              "  '100788224',\n",
              "  'USD',\n",
              "  '3.99',\n",
              "  '21292',\n",
              "  '26',\n",
              "  '4',\n",
              "  '4.5',\n",
              "  '6.3.5',\n",
              "  '4+',\n",
              "  'Games',\n",
              "  '38',\n",
              "  '5',\n",
              "  '10',\n",
              "  '1'],\n",
              " ['281796108',\n",
              "  'Evernote - stay organized',\n",
              "  '158578688',\n",
              "  'USD',\n",
              "  '0',\n",
              "  '161065',\n",
              "  '26',\n",
              "  '4',\n",
              "  '3.5',\n",
              "  '8.2.2',\n",
              "  '4+',\n",
              "  'Productivity',\n",
              "  '37',\n",
              "  '5',\n",
              "  '23',\n",
              "  '1']]"
            ]
          },
          "metadata": {
            "tags": []
          },
          "execution_count": 3
        }
      ]
    }
  ]
}