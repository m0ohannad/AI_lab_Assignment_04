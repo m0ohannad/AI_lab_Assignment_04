{
  "nbformat": 4,
  "nbformat_minor": 0,
  "metadata": {
    "colab": {
      "name": "Assignment_04.ipynb",
      "provenance": [],
      "collapsed_sections": [],
      "authorship_tag": "ABX9TyPnUKcjwgdWAT7kZ9ngNbI6",
      "include_colab_link": true
    },
    "kernelspec": {
      "name": "python3",
      "display_name": "Python 3"
    },
    "language_info": {
      "name": "python"
    }
  },
  "cells": [
    {
      "cell_type": "markdown",
      "metadata": {
        "id": "view-in-github",
        "colab_type": "text"
      },
      "source": [
        "<a href=\"https://colab.research.google.com/github/m0ohannad/AI_lab_Assignment_04/blob/main/Assignment_04.ipynb\" target=\"_parent\"><img src=\"https://colab.research.google.com/assets/colab-badge.svg\" alt=\"Open In Colab\"/></a>"
      ]
    },
    {
      "cell_type": "markdown",
      "metadata": {
        "id": "n3GL73Xc9Dxe"
      },
      "source": [
        "# **Q1**"
      ]
    },
    {
      "cell_type": "markdown",
      "metadata": {
        "id": "2lwIohKY9GAh"
      },
      "source": [
        "1. Write a function named **`freq_table()`** that generates a frequency table for any column in our iOS apps data set.\n",
        "  * The function should take the index number of a column in as an input (name the parameter as you want).\n",
        "  * Inside the function's body:\n",
        "    * Loop through the **apps_data** data set (don't include the header row) and extract the value you want by using the parameter (which is expected to be an index number).\n",
        "  * The function should return the frequency table as a dictionary.\n",
        "\n",
        "2. Use the **`freq_table()`** function to generate a frequency table for the **user_rating** column (the index number of this column is 7). Store the table in a variable named **ratings_ft**.\n",
        "\n",
        "\n",
        "\n",
        "```\n",
        "opened_file = open('AppleStore.csv', encoding = 'utf8')\n",
        "from csv import reader\n",
        "read_file = reader(opened_file)\n",
        "apps_data = list(read_file)\n",
        "```\n",
        "\n"
      ]
    },
    {
      "cell_type": "code",
      "metadata": {
        "colab": {
          "base_uri": "https://localhost:8080/"
        },
        "id": "7kAVHQwEMwxZ",
        "outputId": "c00a5f8c-9d1d-47a6-8bad-9dcfdb6d4d22"
      },
      "source": [
        "opened_file = open('AppleStore.csv', encoding = 'utf8')\n",
        "from csv import reader\n",
        "read_file = reader(opened_file)\n",
        "apps_data = list(read_file)\n",
        "\n",
        "def freq_table(index):\n",
        "  f_table ={}\n",
        "  for app in apps_data[1:]:\n",
        "    value = app[index]\n",
        "    if value in f_table:\n",
        "      f_table[value] +=1\n",
        "    else:\n",
        "      f_table[value] = 1\n",
        "\n",
        "  return f_table\n",
        "    \n",
        "ratings_ft = freq_table(7)\n",
        "ratings_ft"
      ],
      "execution_count": 1,
      "outputs": [
        {
          "output_type": "execute_result",
          "data": {
            "text/plain": [
              "{'0': 929,\n",
              " '1': 44,\n",
              " '1.5': 56,\n",
              " '2': 106,\n",
              " '2.5': 196,\n",
              " '3': 383,\n",
              " '3.5': 702,\n",
              " '4': 1626,\n",
              " '4.5': 2663,\n",
              " '5': 492}"
            ]
          },
          "metadata": {
            "tags": []
          },
          "execution_count": 1
        }
      ]
    }
  ]
}